{
 "cells": [
  {
   "cell_type": "markdown",
   "id": "d5eb38d9",
   "metadata": {},
   "source": [
    "Problem 1: Bank Account Create a class representing a bank account with attributes like account number, account holder name, and balance. Implement methods to deposit and withdraw money from the account."
   ]
  },
  {
   "cell_type": "code",
   "execution_count": 120,
   "id": "3b558c33",
   "metadata": {},
   "outputs": [
    {
     "name": "stdout",
     "output_type": "stream",
     "text": [
      "Rs. 11,100 amount deposited succesfully.\n",
      "Rs. 1,100 amount withdrwal succesfully.\n"
     ]
    }
   ],
   "source": [
    "class BankAccount:\n",
    "    def __init__(self,name,account_number,balance):\n",
    "        self.account_holder_name = name\n",
    "        self.account_number = account_number\n",
    "        self.account_balance = balance\n",
    "        \n",
    "    def deposit(self,amount):\n",
    "        self.account_balance+=amount\n",
    "        return \"Rs. \"+f'{self.account_balance:,}' + \" amount deposited succesfully.\"\n",
    "    \n",
    "    def withdraw(self,amount):\n",
    "        self.account_balance-=amount\n",
    "        return \"Rs. \"+f'{self.account_balance:,}' + \" amount withdrwal succesfully.\"\n",
    "    \n",
    "name = \"Satyam\"\n",
    "account_number = 101234\n",
    "balance = 10000\n",
    "\n",
    "Satyam = BankAccount(name,account_number,balance)\n",
    "\n",
    "print(Satyam.deposit(1100))\n",
    "\n",
    "print(Satyam.withdraw(10000))\n",
    "    "
   ]
  },
  {
   "cell_type": "markdown",
   "id": "02756b8c",
   "metadata": {},
   "source": [
    "Problem 2: Employee Management Create a class representing an employee with attributes like employee ID, name, and salary. Implement methods to calculate the yearly bonus and display employee details."
   ]
  },
  {
   "cell_type": "code",
   "execution_count": 121,
   "id": "f29c8ffb",
   "metadata": {},
   "outputs": [
    {
     "data": {
      "text/plain": [
       "'ID:1010 name:Pawan Year_salary:1300000.0'"
      ]
     },
     "execution_count": 121,
     "metadata": {},
     "output_type": "execute_result"
    }
   ],
   "source": [
    "class Employee:\n",
    "    def __init__(self,Id,name,salary):\n",
    "        self.id = Id\n",
    "        self.name = name\n",
    "        self.salary = salary\n",
    "        \n",
    "    def bonus(self,amount,eligible='yes'):\n",
    "        if eligible=='yes':\n",
    "            self.salary = self.salary+amount\n",
    "        else:\n",
    "            pass\n",
    "        return f\"Yealy salary Rs {self.salary:,}\"\n",
    "    \n",
    "    def employee_details(self):\n",
    "        return f\"ID:{self.id} name:{self.name} Year_salary:{self.salary}\"\n",
    "        \n",
    "        \n",
    "        \n",
    "ID = 1010\n",
    "name = 'Pawan'\n",
    "salary = 1200000\n",
    "\n",
    "pawan = Employee(ID,name,salary)\n",
    "\n",
    "amount = pawan.salary/12\n",
    "pawan.bonus(amount)\n",
    "pawan.employee_details()"
   ]
  },
  {
   "cell_type": "markdown",
   "id": "bc349baf",
   "metadata": {},
   "source": [
    "Problem 3: Vehicle Rental Create a class representing a vehicle rental system. Implement methods to rent a vehicle, return a vehicle, and display available vehicles."
   ]
  },
  {
   "cell_type": "code",
   "execution_count": 122,
   "id": "d1ed9451",
   "metadata": {},
   "outputs": [
    {
     "data": {
      "text/plain": [
       "'Car: 7 Bike: 29 Amount_earned: 35000'"
      ]
     },
     "execution_count": 122,
     "metadata": {},
     "output_type": "execute_result"
    }
   ],
   "source": [
    "class RentalVehicle:\n",
    "    def __init__(self,car,bike,earn=0):\n",
    "        self.number_car = car\n",
    "        self.number_bike = bike\n",
    "        self.earn = earn\n",
    "        \n",
    "    def rental(self,item,quantity,amount):\n",
    "        self.earn+=amount\n",
    "        \n",
    "        if item=='car':\n",
    "            self.number_car-=quantity\n",
    "        else:\n",
    "            self.number_bike-=quantity\n",
    "            \n",
    "    def retrun_item(self,item,quantity):\n",
    "        if item=='car':\n",
    "            self.number_car+=quantity\n",
    "        else:\n",
    "            self.number_bike+=quantity\n",
    "        \n",
    "    def available_stock(self):\n",
    "        return f\"Car: {self.number_car} Bike: {self.number_bike} Amount_earned: {self.earn}\"\n",
    "\n",
    "person1 = RentalVehicle(10,30)\n",
    "\n",
    "person1.rental('car',3,33000)\n",
    "person1.rental('bike',1,2000)\n",
    "\n",
    "person1.available_stock()"
   ]
  },
  {
   "cell_type": "markdown",
   "id": "de6212c5",
   "metadata": {},
   "source": [
    "Problem 4: Library Catalog Create classes representing a library and a book. Implement methods to add books to the library, borrow books, and display available books."
   ]
  },
  {
   "cell_type": "code",
   "execution_count": 123,
   "id": "d6388ea6",
   "metadata": {},
   "outputs": [
    {
     "data": {
      "text/plain": [
       "88"
      ]
     },
     "execution_count": 123,
     "metadata": {},
     "output_type": "execute_result"
    }
   ],
   "source": [
    "class Library:\n",
    "    def __init__(self,number_books=100):\n",
    "        self.number_books = number_books\n",
    "        \n",
    "    def add_book(self,number):\n",
    "        self.number_books+=number\n",
    "        \n",
    "    def borrow_books(self,number):\n",
    "        self.number_books-=number\n",
    "        \n",
    "    def display_books_stock(self):\n",
    "        return self.number_books\n",
    "    \n",
    "student1 = Library()\n",
    "\n",
    "student1.borrow_books(12)\n",
    "student1.display_books_stock()"
   ]
  },
  {
   "cell_type": "markdown",
   "id": "921ecfca",
   "metadata": {},
   "source": [
    "Problem 5: Product Inventory Create classes representing a product and an inventory system. Implement methods to add products to the inventory, update product quantity, and display available products."
   ]
  },
  {
   "cell_type": "code",
   "execution_count": 124,
   "id": "ab264ba7",
   "metadata": {},
   "outputs": [
    {
     "name": "stdout",
     "output_type": "stream",
     "text": [
      "name:ram | ID:101 | Quantity:100\n",
      "name:cpu | ID:105 | Quantity:10\n"
     ]
    }
   ],
   "source": [
    "class Product:\n",
    "    def __init__(self,Id,item,quantity):\n",
    "        self.item = item\n",
    "        self.id = Id\n",
    "        self.number_item_qty = quantity\n",
    "        \n",
    "    def __str__(self):\n",
    "        return f\"name:{self.item} | ID:{self.id} | Quantity:{self.number_item_qty}\"\n",
    "    \n",
    "class Inventory:\n",
    "    \n",
    "    def __init__(self):\n",
    "        self.list_products=[]\n",
    "        \n",
    "    def add_product(self,product_details):\n",
    "        self.list_products.append(product_details)\n",
    "            \n",
    "    def update_product(self,Id,quantity,task='add'):\n",
    "        for item in self.list_products:\n",
    "            if item.id==Id and task=='add' :\n",
    "                item.number_item_qty+=quantity\n",
    "                \n",
    "            elif item.id==Id and task=='remove' and item.number_item_qty>=quantity:\n",
    "                item.number_item_qty-=quantity\n",
    "                \n",
    "            else:\n",
    "                return \"wrong input\"\n",
    "        \n",
    "    def available_stock(self):\n",
    "        for product in self.list_products:\n",
    "            print(product)\n",
    "\n",
    "entry1 = Product(Id=101,item='ram',quantity=100)\n",
    "entry2 = Product(Id=105,item='cpu',quantity=10)\n",
    "\n",
    "inventory=Inventory()\n",
    "inventory.add_product(entry1)\n",
    "inventory.add_product(entry2)\n",
    "\n",
    "\n",
    "inventory.available_stock()"
   ]
  },
  {
   "cell_type": "markdown",
   "id": "5962e6d0",
   "metadata": {},
   "source": [
    "Problem 6: Shape Calculation Create a class representing a shape with attributes like length, width, and height. Implement methods to calculate the area and perimeter of the shape."
   ]
  },
  {
   "cell_type": "code",
   "execution_count": 125,
   "id": "18837ca2",
   "metadata": {},
   "outputs": [
    {
     "data": {
      "text/plain": [
       "'circle 113.04'"
      ]
     },
     "execution_count": 125,
     "metadata": {},
     "output_type": "execute_result"
    }
   ],
   "source": [
    "class Shape:\n",
    "    def __init__(self,shape,length=-1,width=-1,height=-1):\n",
    "        self.shape = shape\n",
    "        self.length = length\n",
    "        self.width = width\n",
    "        self.height = height\n",
    "    \n",
    "    def area(self):\n",
    "        if self.shape=='circle':\n",
    "            dia = self.width\n",
    "            return f'{self.shape} {3.14*0.25*dia**2}'\n",
    "        \n",
    "        elif self.shape=='triangle':\n",
    "            base=self.width\n",
    "            height=self.height\n",
    "            return f'{self.shape} {0.5*base*height}'\n",
    "        \n",
    "        else:\n",
    "            return f'{self.shape} {self.length*self.width}'\n",
    "        \n",
    "shape='circle'\n",
    "length=12\n",
    "width=12\n",
    "height=20\n",
    "dia=base=width\n",
    "\n",
    "\n",
    "shape=Shape(shape,length,width,height)\n",
    "shape.area()"
   ]
  },
  {
   "cell_type": "markdown",
   "id": "f4b26b20",
   "metadata": {},
   "source": [
    "Problem 7: Student Management Create a class representing a student with attributes like student ID, name, and grades. Implement methods to calculate the average grade and display student details."
   ]
  },
  {
   "cell_type": "code",
   "execution_count": 126,
   "id": "021bd3ef",
   "metadata": {},
   "outputs": [
    {
     "name": "stdout",
     "output_type": "stream",
     "text": [
      "Name: Shantanu Soni | ID:007 | Grade:[7, 5, 8, 9, 10] | Avg:7.8\n"
     ]
    }
   ],
   "source": [
    "class Student:\n",
    "    def __init__(self,Id,name,grades):\n",
    "        self.id = Id\n",
    "        self.name = name\n",
    "        self.grades = grades\n",
    "        \n",
    "    def __str__(self):\n",
    "        return f\"Name: {self.name} | ID:{self.id} | Grade:{self.grades} | Avg:{self.grade_avg()}\"\n",
    "    \n",
    "    def grade_avg(self):\n",
    "        return sum(self.grades)/len(self.grades)\n",
    "    \n",
    "shantanu = Student('007','Shantanu Soni',[7,5,8,9,10])\n",
    "print(shantanu)"
   ]
  },
  {
   "cell_type": "markdown",
   "id": "ba49e64d",
   "metadata": {},
   "source": [
    "Problem 8: Email Management Create a class representing an email with attributes like sender, recipient, and subject. Implement methods to send an email and display email details."
   ]
  },
  {
   "cell_type": "code",
   "execution_count": 127,
   "id": "04d98011",
   "metadata": {},
   "outputs": [
    {
     "name": "stdout",
     "output_type": "stream",
     "text": [
      "Email Details:\n",
      "Sender: user@example.com\n",
      "Recipient: recipient@example.com\n",
      "Subject: Hello\n",
      "Message:\n",
      "Hi there, how are you?\n",
      "Status: Draft\n",
      "Sending email...\n",
      "Email Details:\n",
      "Sender: user@example.com\n",
      "Recipient: recipient@example.com\n",
      "Subject: Hello\n",
      "Message:\n",
      "Hi there, how are you?\n",
      "Status: Sent\n"
     ]
    }
   ],
   "source": [
    "class Email:\n",
    "    def __init__(self, sender, recipient, subject, message):\n",
    "        self.sender = sender\n",
    "        self.recipient = recipient\n",
    "        self.subject = subject\n",
    "        self.message = message\n",
    "        self.sent = False\n",
    "\n",
    "    def send_email(self):\n",
    "        # Simulate sending the email (you can implement the actual email sending logic here)\n",
    "        print(\"Sending email...\")\n",
    "        self.sent = True\n",
    "\n",
    "    def display_details(self):\n",
    "        print(\"Email Details:\")\n",
    "        print(f\"Sender: {self.sender}\")\n",
    "        print(f\"Recipient: {self.recipient}\")\n",
    "        print(f\"Subject: {self.subject}\")\n",
    "        print(\"Message:\")\n",
    "        print(self.message)\n",
    "        if self.sent:\n",
    "            print(\"Status: Sent\")\n",
    "        else:\n",
    "            print(\"Status: Draft\")\n",
    "\n",
    "\n",
    "# Create an email\n",
    "email = Email(sender=\"user@example.com\", recipient=\"recipient@example.com\", subject=\"Hello\", message=\"Hi there, how are you?\")\n",
    "\n",
    "# Display email details\n",
    "email.display_details()\n",
    "\n",
    "# Send the email\n",
    "email.send_email()\n",
    "\n",
    "# Display email details after sending\n",
    "email.display_details()\n"
   ]
  },
  {
   "cell_type": "markdown",
   "id": "eabab17d",
   "metadata": {},
   "source": [
    "Problem 9: Social Media Profile Create a class representing a social media profile with attributes like username and posts. Implement methods to add posts, display posts, and search for posts by keyword."
   ]
  },
  {
   "cell_type": "code",
   "execution_count": 128,
   "id": "78b4179a",
   "metadata": {},
   "outputs": [
    {
     "name": "stdout",
     "output_type": "stream",
     "text": [
      "ankur\n",
      "\n",
      "Post  1\n",
      "attending science exhibition\n",
      "\n",
      "Post  2\n",
      "taking advancement in cyx\n",
      "\n",
      "Post  3\n",
      "need to recruit for x position\n",
      "\n",
      "post number:  3\n",
      "need to recruit for x position\n"
     ]
    }
   ],
   "source": [
    "class Profile:\n",
    "    def __init__(self,username):\n",
    "        self.username = username\n",
    "        self.posts=[]\n",
    "        \n",
    "    def add_post(self,post):\n",
    "        return self.posts.append(post)\n",
    "    \n",
    "    def display_post(self):\n",
    "        print(self.username)\n",
    "        print()\n",
    "        for i,post in enumerate(self.posts,start=1):\n",
    "            print(\"Post \",i)\n",
    "            print(post)\n",
    "            print()\n",
    "            i+=1\n",
    "    \n",
    "    def search_post(self,keyword):\n",
    "        for i,post in enumerate(self.posts,start=1):\n",
    "            if keyword in post:\n",
    "                print('post number: ', i)\n",
    "                print(post)\n",
    "\n",
    "ankur = Profile('ankur')\n",
    "ankur.add_post('attending science exhibition')\n",
    "ankur.add_post('taking advancement in cyx')\n",
    "ankur.add_post('need to recruit for x position')\n",
    "\n",
    "ankur.display_post()\n",
    "\n",
    "ankur.search_post('need')"
   ]
  },
  {
   "cell_type": "markdown",
   "id": "2ba8bf68",
   "metadata": {},
   "source": [
    "Problem 10: ToDo List Create a class representing a ToDo list with attributes like tasks and due dates. Implement methods to add tasks, mark tasks as completed, and display pending tasks."
   ]
  },
  {
   "cell_type": "code",
   "execution_count": 129,
   "id": "87e2d3f6",
   "metadata": {},
   "outputs": [
    {
     "name": "stdout",
     "output_type": "stream",
     "text": [
      "Optimization\n",
      "reach to optimization\n",
      "1-12-2023\n",
      "\n",
      "Scale\n",
      "Scale up\n",
      "29-12-2023\n",
      "\n"
     ]
    }
   ],
   "source": [
    "class Task:\n",
    "    def __init__(self,task,description,due):\n",
    "        self.task=task\n",
    "        self.description = description\n",
    "        self.due = due\n",
    "        self.complete = False\n",
    "\n",
    "class ToDo:\n",
    "    \n",
    "    def __init__(self):\n",
    "        self.todo_list=[]\n",
    "        \n",
    "    def add_task(self,Tasks):\n",
    "        self.todo_list.append(Tasks)\n",
    "        \n",
    "    def complete(self,task):\n",
    "        for work in self.todo_list:\n",
    "            if work.task==task:\n",
    "                work.complete=True\n",
    "    \n",
    "    def pending_task(self):\n",
    "        for task in self.todo_list:\n",
    "            if task.complete==False:\n",
    "                print(task.task)\n",
    "                print(task.description)\n",
    "                print(task.due)\n",
    "                print()\n",
    "        \n",
    "fesibility = Task('Fesibility','running initial experiments',f'22-11-2023')\n",
    "optimization = Task('Optimization','reach to optimization',f'1-12-2023')\n",
    "scale = Task('Scale','Scale up',f'29-12-2023')\n",
    "\n",
    "todo=ToDo()\n",
    "todo.add_task(fesibility)\n",
    "todo.add_task(optimization)\n",
    "todo.add_task(scale)\n",
    "\n",
    "todo.complete('Fesibility')\n",
    "\n",
    "todo.pending_task()"
   ]
  },
  {
   "cell_type": "code",
   "execution_count": null,
   "id": "b1f9ce73",
   "metadata": {},
   "outputs": [],
   "source": []
  },
  {
   "cell_type": "code",
   "execution_count": null,
   "id": "3c1efd6c",
   "metadata": {},
   "outputs": [],
   "source": []
  }
 ],
 "metadata": {
  "kernelspec": {
   "display_name": "Python 3",
   "language": "python",
   "name": "python3"
  },
  "language_info": {
   "codemirror_mode": {
    "name": "ipython",
    "version": 3
   },
   "file_extension": ".py",
   "mimetype": "text/x-python",
   "name": "python",
   "nbconvert_exporter": "python",
   "pygments_lexer": "ipython3",
   "version": "3.8.5"
  }
 },
 "nbformat": 4,
 "nbformat_minor": 5
}
